{
  "cells": [
    {
      "cell_type": "markdown",
      "source": [
        "#Blob Detection"
      ],
      "metadata": {
        "id": "8qbFzEpp9fF5"
      },
      "id": "8qbFzEpp9fF5"
    },
    {
      "cell_type": "markdown",
      "id": "0bb29240",
      "metadata": {
        "id": "0bb29240"
      },
      "source": [
        "## Part 1: Blob Detection with OpenCV\n",
        "In this section we will use OpenCV's SimpleBlobDetector class to detect blobs in an image. Run the cell below to import libraries:"
      ]
    },
    {
      "cell_type": "code",
      "source": [
        "from google.colab import drive\n",
        "drive.mount('/content/drive')"
      ],
      "metadata": {
        "id": "E3-wCH7ACPrP"
      },
      "id": "E3-wCH7ACPrP",
      "execution_count": null,
      "outputs": []
    },
    {
      "cell_type": "code",
      "execution_count": null,
      "id": "27e1afce",
      "metadata": {
        "id": "27e1afce"
      },
      "outputs": [],
      "source": [
        "import cv2\n",
        "import numpy as np\n",
        "from matplotlib import pyplot as plt\n",
        "\n",
        "#Some helper functions that will be useful later\n",
        "def draw_keypoints_on_image(keypoints, image):\n",
        "    for kp in keypoints:\n",
        "        x, y = int(kp.pt[0]), int(kp.pt[1])  # center\n",
        "        r = int(kp.size/2)  # radius\n",
        "        cv2.circle(image, (x, y), r, (0, 255, 0), thickness=3)\n",
        "    return image"
      ]
    },
    {
      "cell_type": "markdown",
      "id": "039df41c",
      "metadata": {
        "id": "039df41c"
      },
      "source": [
        "First, lets load the image and see what they look like:"
      ]
    },
    {
      "cell_type": "code",
      "execution_count": null,
      "id": "88993058",
      "metadata": {
        "id": "88993058"
      },
      "outputs": [],
      "source": [
        "FILE_1 = r\"/content/drive/MyDrive/UAV@BerkHW/images/polka_dots_1.png\"\n",
        "original_image_1 = cv2.imread(FILE_1)\n",
        "\n",
        "plt.imshow(original_image_1)\n",
        "plt.axis(\"off\")\n",
        "plt.show()"
      ]
    },
    {
      "cell_type": "markdown",
      "id": "1da69db0",
      "metadata": {
        "id": "1da69db0"
      },
      "source": [
        "Now, we can grayscale the image and simply call the SimpleBlobDetector constructor to detect blobs"
      ]
    },
    {
      "cell_type": "code",
      "execution_count": null,
      "id": "c7aa456d",
      "metadata": {
        "id": "c7aa456d"
      },
      "outputs": [],
      "source": [
        "image = cv2.imread(FILE_1, cv2.IMREAD_GRAYSCALE)\n",
        "params = cv2.SimpleBlobDetector_Params()\n",
        "\n",
        "# Parameters\n",
        "params.minThreshold = 1\n",
        "params.maxThreshold = 10\n",
        "params.filterByArea = False\n",
        "params.filterByCircularity = False\n",
        "params.filterByConvexity = False\n",
        "params.filterByInertia = False\n",
        "params.filterByColor = False\n",
        "\n",
        "detector = cv2.SimpleBlobDetector_create(params)\n",
        "keypoints = detector.detect(image)\n",
        "\n",
        "# Convert grayscale image to color for drawing\n",
        "output = cv2.cvtColor(image, cv2.COLOR_GRAY2BGR)\n",
        "\n",
        "output = draw_keypoints_on_image(keypoints, output)\n",
        "plt.imshow(output)\n",
        "plt.axis(\"off\")\n",
        "plt.show()\n"
      ]
    },
    {
      "cell_type": "markdown",
      "id": "49c6bf5f",
      "metadata": {
        "id": "49c6bf5f"
      },
      "source": [
        "Wait, what's going on here? Why are none of the polka dots circled? \\\n",
        "We need to set better parameters in order for OpenCV to detect the blobs! Check out the OpenCV reference to see what parameters you can change(https://docs.opencv.org/3.4/d8/da7/structcv_1_1SimpleBlobDetector_1_1Params.html)\n",
        "\n"
      ]
    },
    {
      "cell_type": "code",
      "execution_count": null,
      "id": "f9cc7b96",
      "metadata": {
        "id": "f9cc7b96"
      },
      "outputs": [],
      "source": [
        "#TODO: edit/add parameters so blobs are circled\n",
        "params.minThreshold = 100\n",
        "params.maxThreshold = 250\n",
        "params.filterByArea = True\n",
        "params.minArea = 100\n",
        "params.maxArea = 6000\n",
        "params.filterByCircularity = True\n",
        "params.minCircularity = 0.8\n",
        "params.filterByConvexity = False\n",
        "params.filterByInertia = False\n",
        "params.filterByColor = False\n",
        "\n",
        "detector = cv2.SimpleBlobDetector_create(params)\n",
        "keypoints = detector.detect(image)\n",
        "\n",
        "#Convert grayscale image to color for drawing\n",
        "output = cv2.cvtColor(image, cv2.COLOR_GRAY2BGR)\n",
        "\n",
        "output = draw_keypoints_on_image(keypoints, output)\n",
        "plt.imshow(output)\n",
        "plt.axis(\"off\")\n",
        "plt.show()"
      ]
    },
    {
      "cell_type": "markdown",
      "id": "fd84e541",
      "metadata": {
        "id": "fd84e541"
      },
      "source": [
        "Congrats! You now have a simple blob detector ready for use. Feel free to try this blob detector on other images to see what happens!"
      ]
    },
    {
      "cell_type": "markdown",
      "id": "76aec1fe",
      "metadata": {
        "id": "76aec1fe"
      },
      "source": [
        "## (Optional) Part 2: Create your own blob detection system!\n",
        "\n",
        "Using LoG or your own method, design a system to detect objects on a uniform background\n"
      ]
    },
    {
      "cell_type": "code",
      "execution_count": null,
      "id": "2beb9621",
      "metadata": {
        "id": "2beb9621"
      },
      "outputs": [],
      "source": [
        "def get_keypoints(image):\n",
        "    sift = cv2.SIFT_create(nfeatures = 100, nOctaveLayers = 3, contrastThreshold = 0.09)\n",
        "    kp = sift.detect(image,None)\n",
        "    print(kp)\n",
        "    return kp\n",
        "\n",
        "\"\"\"Use SIFT when accuracy is critical and speed is less important.\n",
        "\n",
        "Use SURF if you need a compromise between speed and robustness (but licensing issues exist).\n",
        "\n",
        "Use ORB when you need a fast, free, real-time solution. - ChatGPT\n",
        "\n",
        "https://docs.opencv.org/4.x/db/d27/tutorial_py_table_of_contents_feature2d.html\"\"\"\n",
        "\n",
        "keypoints = get_keypoints(image)\n",
        "output = draw_keypoints_on_image(keypoints, output)\n",
        "plt.imshow(output)\n",
        "plt.axis(\"off\")\n",
        "plt.show()\n",
        "\n",
        "\"\"\"it works... kinda?\"\"\""
      ]
    },
    {
      "cell_type": "markdown",
      "source": [
        "#YOLO for object Detection\n"
      ],
      "metadata": {
        "id": "0sxPPter9vGZ"
      },
      "id": "0sxPPter9vGZ"
    },
    {
      "cell_type": "code",
      "source": [
        "from datasets import load_dataset\n",
        "from google.colab import userdata\n"
      ],
      "metadata": {
        "id": "ngn9M_Jr91bh"
      },
      "id": "ngn9M_Jr91bh",
      "execution_count": null,
      "outputs": []
    },
    {
      "cell_type": "code",
      "source": [
        "dataset = load_dataset(\"gabraken/mtg-detection\", token = userdata.get(\"HF_TOKEN\"))"
      ],
      "metadata": {
        "id": "0H1NZVs3C8Bs"
      },
      "id": "0H1NZVs3C8Bs",
      "execution_count": null,
      "outputs": []
    },
    {
      "cell_type": "code",
      "source": [
        "dataset['train'][0]['metadata']"
      ],
      "metadata": {
        "id": "Pq7VdH9qDHEZ"
      },
      "id": "Pq7VdH9qDHEZ",
      "execution_count": null,
      "outputs": []
    }
  ],
  "metadata": {
    "kernelspec": {
      "display_name": "Python 3",
      "language": "python",
      "name": "python3"
    },
    "language_info": {
      "codemirror_mode": {
        "name": "ipython",
        "version": 3
      },
      "file_extension": ".py",
      "mimetype": "text/x-python",
      "name": "python",
      "nbconvert_exporter": "python",
      "pygments_lexer": "ipython3",
      "version": "3.13.0"
    },
    "colab": {
      "provenance": []
    }
  },
  "nbformat": 4,
  "nbformat_minor": 5
}