{
  "nbformat": 4,
  "nbformat_minor": 0,
  "metadata": {
    "colab": {
      "provenance": []
    },
    "kernelspec": {
      "name": "python3",
      "display_name": "Python 3"
    },
    "language_info": {
      "name": "python"
    }
  },
  "cells": [
    {
      "cell_type": "markdown",
      "source": [
        "#Color Me Impressed"
      ],
      "metadata": {
        "id": "c8eWFQPalzBI"
      }
    },
    {
      "cell_type": "code",
      "execution_count": null,
      "metadata": {
        "id": "7_Emmfu9YT8C"
      },
      "outputs": [],
      "source": [
        "from google.colab.patches import cv2, cv2_imshow\n",
        "import requests\n",
        "import numpy as np"
      ]
    },
    {
      "cell_type": "code",
      "source": [
        "response = requests.get(\"https://t3.ftcdn.net/jpg/02/91/20/02/240_F_291200220_CFtK5bMEKPj4RHttNyEpS6FETX7HbHQe.jpg\")\n",
        "image_array = np.asarray(bytearray(response.content), dtype=np.uint8)\n",
        "image_array.shape"
      ],
      "metadata": {
        "id": "5uF2OD2zqeE7"
      },
      "execution_count": null,
      "outputs": []
    },
    {
      "cell_type": "code",
      "source": [
        "img = cv2.imdecode(image_array, cv2.IMREAD_COLOR) #in BGR\n",
        "cv2_imshow(img)"
      ],
      "metadata": {
        "id": "y7f5f_ent1jC"
      },
      "execution_count": null,
      "outputs": []
    },
    {
      "cell_type": "code",
      "source": [
        "img = np.zeros((500,500,3),dtype=np.uint8)\n",
        "img"
      ],
      "metadata": {
        "id": "fcLfoGV3khVJ"
      },
      "execution_count": null,
      "outputs": []
    },
    {
      "cell_type": "code",
      "source": [
        "def isolate_color(img,color):\n",
        "  max_diff = 255**2 * 3\n",
        "  output = np.empty((img.shape[0],img.shape[1]),dtype=np.uint8)\n",
        "  for x in range(img.shape[0]):\n",
        "    for y in range(img.shape[1]):\n",
        "      diff = (img[x][y][0]-color[0])**2 + (img[x][y][1]-color[1])**2 + (img[x][y][2]-color[2])**2\n",
        "      output[x][y] = 255*(1-diff/max_diff)\n",
        "  return output\n",
        ""
      ],
      "metadata": {
        "id": "W0EI38Y-uQww"
      },
      "execution_count": null,
      "outputs": []
    },
    {
      "cell_type": "code",
      "source": [
        "color = np.array([0,0,0])\n",
        "print(img.shape)\n",
        "new_img = isolate_color(img,color)\n",
        "new_img"
      ],
      "metadata": {
        "id": "6ZIBw_QgwChX"
      },
      "execution_count": null,
      "outputs": []
    },
    {
      "cell_type": "code",
      "source": [
        "def find_color_center(img,color):\n",
        "  img = isolate_color(img,color)\n",
        "  x_coc = 0\n",
        "  y_coc = 0\n",
        "  for x in range(img.shape[0]):\n",
        "    x_coc += np.mean(img[x])/255*x\n",
        "  for y in range(img.shape[1]):\n",
        "    y_coc += np.mean(img[:,y])/255*y\n",
        "  return x_coc/img.shape[0],y_coc/img.shape[1]"
      ],
      "metadata": {
        "id": "um9Pir1cfBhr"
      },
      "execution_count": null,
      "outputs": []
    },
    {
      "cell_type": "code",
      "source": [
        "find_color_center(img,color)"
      ],
      "metadata": {
        "id": "Pzcs1PwXgQyz"
      },
      "execution_count": null,
      "outputs": []
    },
    {
      "cell_type": "markdown",
      "source": [
        "#I'll be needing stitches"
      ],
      "metadata": {
        "id": "RIJBMNKKl71C"
      }
    },
    {
      "cell_type": "code",
      "source": [
        "from google.colab.patches import cv2, cv2_imshow\n",
        "import numpy as np"
      ],
      "metadata": {
        "id": "vaD4Ru0ZmADd"
      },
      "execution_count": null,
      "outputs": []
    },
    {
      "cell_type": "code",
      "source": [
        "video = cv2.VideoCapture(\"Minecraft_stitch_test.mp4\")\n",
        "video.get(cv2.CAP_PROP_FRAME_COUNT)"
      ],
      "metadata": {
        "id": "J-WXqnZhrTmi"
      },
      "execution_count": null,
      "outputs": []
    },
    {
      "cell_type": "code",
      "source": [
        "skip = 100\n",
        "imgs = []\n",
        "while True:\n",
        "  for x in range(skip-1): video.grab()\n",
        "  ret, frame = video.read()\n",
        "  if not ret:\n",
        "    break\n",
        "  imgs.append(frame)\n",
        "  cv2_imshow(frame)"
      ],
      "metadata": {
        "id": "9YwpS-yCshja"
      },
      "execution_count": null,
      "outputs": []
    },
    {
      "cell_type": "code",
      "source": [
        "stitcher = cv2.Stitcher.create(mode=cv2.Stitcher_SCANS)\n",
        "status, pano = stitcher.stitch(imgs)\n",
        "print(pano.shape)\n",
        "cv2_imshow(pano)"
      ],
      "metadata": {
        "id": "lZxfRHVTvYng"
      },
      "execution_count": null,
      "outputs": []
    }
  ]
}